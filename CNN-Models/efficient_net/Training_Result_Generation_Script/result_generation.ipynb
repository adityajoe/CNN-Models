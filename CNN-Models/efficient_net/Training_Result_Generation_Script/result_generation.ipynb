{
  "nbformat": 4,
  "nbformat_minor": 0,
  "metadata": {
    "colab": {
      "provenance": []
    },
    "kernelspec": {
      "name": "python3",
      "display_name": "Python 3"
    },
    "language_info": {
      "name": "python"
    }
  },
  "cells": [
    {
      "cell_type": "code",
      "execution_count": null,
      "metadata": {
        "colab": {
          "base_uri": "https://localhost:8080/"
        },
        "id": "vkDhbcdWpIWb",
        "outputId": "769e2112-8b00-4e46-e567-15123edf9735"
      },
      "outputs": [
        {
          "output_type": "stream",
          "name": "stdout",
          "text": [
            "Mounted at /content/drive\n"
          ]
        }
      ],
      "source": [
        "import os\n",
        "import torch\n",
        "import torchvision.transforms as transforms\n",
        "from google.colab import drive\n",
        "import os\n",
        "device = torch.device('cuda' if torch.cuda.is_available() else 'cpu')\n",
        "drive.mount('/content/drive')\n",
        "validation_dataset_path = \"/content/drive/MyDrive/test_images\" #test dataset for analysis\n",
        "model_path = \"/content/drive/MyDrive/efficient_net_models/model_5epochs\""
      ]
    },
    {
      "cell_type": "code",
      "source": [
        "model = torch.load(model_path)\n",
        "model.eval()"
      ],
      "metadata": {
        "colab": {
          "base_uri": "https://localhost:8080/"
        },
        "id": "4WnUb-lusivm",
        "outputId": "01d02579-006d-4ef3-ed61-972422747f3c"
      },
      "execution_count": null,
      "outputs": [
        {
          "output_type": "execute_result",
          "data": {
            "text/plain": [
              "AlexNet(\n",
              "  (features): Sequential(\n",
              "    (0): Conv2d(3, 64, kernel_size=(11, 11), stride=(4, 4), padding=(2, 2))\n",
              "    (1): ReLU(inplace=True)\n",
              "    (2): MaxPool2d(kernel_size=3, stride=2, padding=0, dilation=1, ceil_mode=False)\n",
              "    (3): Conv2d(64, 192, kernel_size=(5, 5), stride=(1, 1), padding=(2, 2))\n",
              "    (4): ReLU(inplace=True)\n",
              "    (5): MaxPool2d(kernel_size=3, stride=2, padding=0, dilation=1, ceil_mode=False)\n",
              "    (6): Conv2d(192, 384, kernel_size=(3, 3), stride=(1, 1), padding=(1, 1))\n",
              "    (7): ReLU(inplace=True)\n",
              "    (8): Conv2d(384, 256, kernel_size=(3, 3), stride=(1, 1), padding=(1, 1))\n",
              "    (9): ReLU(inplace=True)\n",
              "    (10): Conv2d(256, 256, kernel_size=(3, 3), stride=(1, 1), padding=(1, 1))\n",
              "    (11): ReLU(inplace=True)\n",
              "    (12): MaxPool2d(kernel_size=3, stride=2, padding=0, dilation=1, ceil_mode=False)\n",
              "  )\n",
              "  (avgpool): AdaptiveAvgPool2d(output_size=(6, 6))\n",
              "  (classifier): Sequential(\n",
              "    (0): Dropout(p=0.5, inplace=False)\n",
              "    (1): Linear(in_features=9216, out_features=4096, bias=True)\n",
              "    (2): ReLU(inplace=True)\n",
              "    (3): Dropout(p=0.5, inplace=False)\n",
              "    (4): Linear(in_features=4096, out_features=4096, bias=True)\n",
              "    (5): ReLU(inplace=True)\n",
              "    (6): Linear(in_features=4096, out_features=5, bias=True)\n",
              "  )\n",
              ")"
            ]
          },
          "metadata": {},
          "execution_count": 2
        }
      ]
    },
    {
      "cell_type": "code",
      "source": [
        "#transformation class to create object of\n",
        "class ImageTransformer:\n",
        "    def __init__(self):\n",
        "        self._image_size = (224, 224)\n",
        "\n",
        "        self.transform = transforms.Compose([\n",
        "            transforms.Resize(self._image_size),\n",
        "            transforms.ToTensor(),\n",
        "            # transforms.Normalize(mean=self._mean, std=self._std)\n",
        "        ])"
      ],
      "metadata": {
        "id": "jfWYaX_5qVvE"
      },
      "execution_count": null,
      "outputs": []
    },
    {
      "cell_type": "code",
      "source": [
        "#transforms image into what required as input for model\n",
        "image_processor = ImageTransformer()\n"
      ],
      "metadata": {
        "id": "UYhMwVk0qEYM"
      },
      "execution_count": null,
      "outputs": []
    },
    {
      "cell_type": "code",
      "source": [
        "id_to_label = {0: 'Packing_List', 1: 'Bill_of_lading', 2: 'Certificate_Of_Origin',\n",
        "                  3: 'Insurance_Certificate', 4: 'Covering_Schedule'}"
      ],
      "metadata": {
        "id": "Lew44Vmx5q1A"
      },
      "execution_count": null,
      "outputs": []
    },
    {
      "cell_type": "code",
      "source": [
        "import pandas as pd\n",
        "a = pd.DataFrame\n",
        "data ={\"File_Name\": [] ,\"Actual_Class\": [], \"Predicted_Class\": []}\n",
        "from PIL import Image\n",
        "for file in os.listdir(validation_dataset_path):\n",
        "  img = Image.open(os.path.join(validation_dataset_path,file)).convert(\"RGB\")\n",
        "  #print(file[:-13])\n",
        "  transformed_input_image = image_processor.transform(img)\n",
        "  transformed_input_image = transformed_input_image.reshape(1,3,224,224)\n",
        "  #print(transformed_input_image.shape)\n",
        "  output = model(transformed_input_image)\n",
        "  _, predicted_idx = torch.max(output, 1)\n",
        "  #print(output.shape)\n",
        "  data[\"File_Name\"].append(file)\n",
        "  actual_class = file[:-13]\n",
        "  if actual_class[-1] == \"_\":\n",
        "    actual_class = actual_class[:-1]\n",
        "  data[\"Actual_Class\"].append(actual_class)\n",
        "  data[\"Predicted_Class\"].append(id_to_label[int(predicted_idx)])\n",
        "  #print(id_to_label[int(predicted_idx)])\n",
        "a = pd.DataFrame(data)"
      ],
      "metadata": {
        "id": "lDKzaR6xqbqH"
      },
      "execution_count": null,
      "outputs": []
    },
    {
      "cell_type": "code",
      "source": [
        "from sklearn.metrics import precision_score, recall_score, f1_score\n",
        "classes = a['Actual_Class'].unique()\n",
        "precisions = []\n",
        "recalls = []\n",
        "f1_scores = []\n",
        "\n",
        "for cls in classes:\n",
        "    actual = a['Actual_Class'].map(lambda x: 1 if x == cls else 0)\n",
        "    predicted = a['Predicted_Class'].map(lambda x: 1 if x == cls else 0)\n",
        "\n",
        "    precision = precision_score(actual, predicted)\n",
        "    recall = recall_score(actual, predicted)\n",
        "    f1 = f1_score(actual, predicted)\n",
        "\n",
        "    precisions.append(precision)\n",
        "    recalls.append(recall)\n",
        "    f1_scores.append(f1)\n"
      ],
      "metadata": {
        "colab": {
          "base_uri": "https://localhost:8080/"
        },
        "id": "PQFkCAx9_U4D",
        "outputId": "2d360da4-0bbe-47c9-ae36-6b9be19230b0"
      },
      "execution_count": null,
      "outputs": [
        {
          "output_type": "stream",
          "name": "stderr",
          "text": [
            "/usr/local/lib/python3.10/dist-packages/sklearn/metrics/_classification.py:1344: UndefinedMetricWarning: Precision is ill-defined and being set to 0.0 due to no predicted samples. Use `zero_division` parameter to control this behavior.\n",
            "  _warn_prf(average, modifier, msg_start, len(result))\n",
            "/usr/local/lib/python3.10/dist-packages/sklearn/metrics/_classification.py:1344: UndefinedMetricWarning: Precision is ill-defined and being set to 0.0 due to no predicted samples. Use `zero_division` parameter to control this behavior.\n",
            "  _warn_prf(average, modifier, msg_start, len(result))\n",
            "/usr/local/lib/python3.10/dist-packages/sklearn/metrics/_classification.py:1344: UndefinedMetricWarning: Precision is ill-defined and being set to 0.0 due to no predicted samples. Use `zero_division` parameter to control this behavior.\n",
            "  _warn_prf(average, modifier, msg_start, len(result))\n",
            "/usr/local/lib/python3.10/dist-packages/sklearn/metrics/_classification.py:1344: UndefinedMetricWarning: Precision is ill-defined and being set to 0.0 due to no predicted samples. Use `zero_division` parameter to control this behavior.\n",
            "  _warn_prf(average, modifier, msg_start, len(result))\n"
          ]
        }
      ]
    },
    {
      "cell_type": "code",
      "source": [
        "metrics_df = pd.DataFrame({\n",
        "    'Class': classes,\n",
        "    'Precision': precisions,\n",
        "    'Recall': recalls,\n",
        "    'F1-Score': f1_scores\n",
        "})\n",
        "\n",
        "print(metrics_df)"
      ],
      "metadata": {
        "colab": {
          "base_uri": "https://localhost:8080/"
        },
        "id": "tMPB6emK_vA7",
        "outputId": "d20a110b-c0a8-471e-9ca9-97590c794e20"
      },
      "execution_count": null,
      "outputs": [
        {
          "output_type": "stream",
          "name": "stdout",
          "text": [
            "                   Class  Precision  Recall  F1-Score\n",
            "0           Packing_List   0.000000    0.00  0.000000\n",
            "1         Bill_of_lading   0.000000    0.00  0.000000\n",
            "2  Certificate_Of_Origin   0.000000    0.00  0.000000\n",
            "3  Insurance_Certificate   0.230769    0.75  0.352941\n",
            "4      Covering_Schedule   0.000000    0.00  0.000000\n"
          ]
        }
      ]
    },
    {
      "cell_type": "code",
      "source": [
        "metrics_df.to_csv(\"metric_df.csv\")"
      ],
      "metadata": {
        "id": "_EVrL9--DUg-"
      },
      "execution_count": null,
      "outputs": []
    },
    {
      "cell_type": "code",
      "source": [
        "a.to_csv(\"Results.csv\")"
      ],
      "metadata": {
        "id": "ZDit2SBADjzR"
      },
      "execution_count": null,
      "outputs": []
    },
    {
      "cell_type": "code",
      "source": [],
      "metadata": {
        "id": "rzI5tyqiDmoc"
      },
      "execution_count": null,
      "outputs": []
    }
  ]
}